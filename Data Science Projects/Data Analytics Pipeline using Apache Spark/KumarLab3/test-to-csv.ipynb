{
 "cells": [
  {
   "cell_type": "code",
   "execution_count": 6,
   "metadata": {},
   "outputs": [],
   "source": [
    "import os\n",
    "import csv\n",
    "os.chdir('C:/share/Categories/Business')\n",
    "from pathlib import Path\n",
    "with open('Business.csv', 'w', encoding='Latin-1') as out_file:\n",
    "    csv_out = csv.writer(out_file)\n",
    "    csv_out.writerow(['Label', 'Content'])\n",
    "    for fileName in Path('.').glob('*.txt'):\n",
    "        lines = [ ]\n",
    "        with open(str(fileName.absolute()),'rb') as one_text:\n",
    "            for line in one_text.readlines():\n",
    "                lines.append(line.decode(encoding='Latin-1',errors='ignore').strip())\n",
    "        csv_out.writerow(['Business',' '.join(lines)])"
   ]
  },
  {
   "cell_type": "code",
   "execution_count": 7,
   "metadata": {
    "collapsed": true
   },
   "outputs": [],
   "source": [
    "import os\n",
    "import csv\n",
    "os.chdir('C:/share/Categories/Comics')\n",
    "from pathlib import Path\n",
    "with open('Comic.csv', 'a', encoding='Latin-1') as out_file:\n",
    "    csv_out = csv.writer(out_file)\n",
    "    csv_out.writerow(['Label', 'Content'])\n",
    "    for fileName in Path('.').glob('*.txt'):\n",
    "        lines = [ ]\n",
    "        with open(str(fileName.absolute()),'rb') as one_text:\n",
    "            for line in one_text.readlines():\n",
    "                lines.append(line.decode(encoding='Latin-1',errors='ignore').strip())\n",
    "        csv_out.writerow(['Comics',' '.join(lines)])"
   ]
  },
  {
   "cell_type": "code",
   "execution_count": 8,
   "metadata": {
    "collapsed": true
   },
   "outputs": [],
   "source": [
    "import os\n",
    "import csv\n",
    "os.chdir('C:/share/Categories/Politics')\n",
    "from pathlib import Path\n",
    "with open('Politics.csv', 'a', encoding='Latin-1') as out_file:\n",
    "    csv_out = csv.writer(out_file)\n",
    "    csv_out.writerow(['Label', 'Content'])\n",
    "    for fileName in Path('.').glob('*.txt'):\n",
    "        lines = [ ]\n",
    "        with open(str(fileName.absolute()),'rb') as one_text:\n",
    "            for line in one_text.readlines():\n",
    "                lines.append(line.decode(encoding='Latin-1',errors='ignore').strip())\n",
    "        csv_out.writerow(['Politics',' '.join(lines)])"
   ]
  },
  {
   "cell_type": "code",
   "execution_count": 9,
   "metadata": {
    "collapsed": true
   },
   "outputs": [],
   "source": [
    "import os\n",
    "import csv\n",
    "os.chdir('C:/share/Categories/Sports')\n",
    "from pathlib import Path\n",
    "with open('Sports.csv', 'a', encoding='Latin-1') as out_file:\n",
    "    csv_out = csv.writer(out_file)\n",
    "    csv_out.writerow(['Label', 'Content'])\n",
    "    for fileName in Path('.').glob('*.txt'):\n",
    "        lines = [ ]\n",
    "        with open(str(fileName.absolute()),'rb') as one_text:\n",
    "            for line in one_text.readlines():\n",
    "                lines.append(line.decode(encoding='Latin-1',errors='ignore').strip())\n",
    "        csv_out.writerow(['Sports',' '.join(lines)])"
   ]
  },
  {
   "cell_type": "code",
   "execution_count": null,
   "metadata": {
    "collapsed": true
   },
   "outputs": [],
   "source": []
  }
 ],
 "metadata": {
  "kernelspec": {
   "display_name": "Python 3",
   "language": "python",
   "name": "python3"
  },
  "language_info": {
   "codemirror_mode": {
    "name": "ipython",
    "version": 3
   },
   "file_extension": ".py",
   "mimetype": "text/x-python",
   "name": "python",
   "nbconvert_exporter": "python",
   "pygments_lexer": "ipython3",
   "version": "3.6.3"
  }
 },
 "nbformat": 4,
 "nbformat_minor": 2
}
