{
 "cells": [
  {
   "cell_type": "code",
   "execution_count": 2,
   "metadata": {},
   "outputs": [
    {
     "name": "stdout",
     "output_type": "stream",
     "text": [
      "   age    name  df twice two\n",
      "0   60     Bob           120\n",
      "1   25   Alice            50\n",
      "2    3  Morgan             6\n",
      "25.0\n"
     ]
    }
   ],
   "source": [
    "import pandas as pd\n",
    "df=pd.DataFrame({\"name\":[\"Bob\",\"Alice\",\"Morgan\"],\"age\":[60,25,3]})\n",
    "df[\"df twice two\"]=2*df[\"age\"]\n",
    "\n",
    "print(df)\n",
    "\n",
    "print(df[\"age\"].quantile(0.5))"
   ]
  },
  {
   "cell_type": "code",
   "execution_count": 48,
   "metadata": {},
   "outputs": [
    {
     "name": "stdout",
     "output_type": "stream",
     "text": [
      "0    1\n",
      "1    2\n",
      "2    3\n",
      "dtype: int64\n"
     ]
    }
   ],
   "source": [
    "s=pd.Series([1,2,3])\n",
    "print(s)"
   ]
  },
  {
   "cell_type": "code",
   "execution_count": 49,
   "metadata": {},
   "outputs": [
    {
     "data": {
      "text/plain": [
       "0    3\n",
       "1    4\n",
       "2    5\n",
       "dtype: int64"
      ]
     },
     "execution_count": 49,
     "metadata": {},
     "output_type": "execute_result"
    }
   ],
   "source": [
    "s+2"
   ]
  },
  {
   "cell_type": "code",
   "execution_count": 50,
   "metadata": {},
   "outputs": [
    {
     "data": {
      "text/plain": [
       "RangeIndex(start=0, stop=3, step=1)"
      ]
     },
     "execution_count": 50,
     "metadata": {},
     "output_type": "execute_result"
    }
   ],
   "source": [
    "s.index"
   ]
  },
  {
   "cell_type": "code",
   "execution_count": 51,
   "metadata": {},
   "outputs": [
    {
     "name": "stdout",
     "output_type": "stream",
     "text": [
      "Index(['Bob', 'Alice', 'Morgan'], dtype='object', name='name')\n"
     ]
    }
   ],
   "source": [
    "dic=df.set_index(\"name\")\n",
    "print(dic.index)"
   ]
  },
  {
   "cell_type": "code",
   "execution_count": 52,
   "metadata": {},
   "outputs": [
    {
     "name": "stdout",
     "output_type": "stream",
     "text": [
      "60\n"
     ]
    }
   ],
   "source": [
    "drax=dic.iloc[0,:]\n",
    "print(drax[\"age\"])"
   ]
  },
  {
   "cell_type": "code",
   "execution_count": 53,
   "metadata": {},
   "outputs": [
    {
     "name": "stdout",
     "output_type": "stream",
     "text": [
      "         age  height\n",
      "name                \n",
      "abhinav   25     6.2\n",
      "ravi      30     5.5\n",
      "thanos    92     4.9\n"
     ]
    }
   ],
   "source": [
    "df_w_age=pd.DataFrame({\"name\":[\"abhinav\",\"ravi\",\"thanos\"],\"age\":[25,30,92]})\n",
    "df_w_height=pd.DataFrame({\"name\":[\"abhinav\",\"ravi\",\"thanos\"],\"height\":[6.2,5.5,4.9]})\n",
    "joined=df_w_age.set_index(\"name\").join(df_w_height.set_index(\"name\"))\n",
    "print(joined)"
   ]
  },
  {
   "cell_type": "code",
   "execution_count": 54,
   "metadata": {},
   "outputs": [
    {
     "name": "stdout",
     "output_type": "stream",
     "text": [
      "      name  age  height\n",
      "0  abhinav   25     6.2\n",
      "1     ravi   30     5.5\n",
      "2   thanos   92     4.9\n"
     ]
    }
   ],
   "source": [
    "print(joined.reset_index())"
   ]
  },
  {
   "cell_type": "code",
   "execution_count": 55,
   "metadata": {},
   "outputs": [
    {
     "name": "stdout",
     "output_type": "stream",
     "text": [
      "0.5      age  height\n",
      "gender              \n",
      "f       55.5    5.95\n",
      "m       27.5    5.85\n"
     ]
    }
   ],
   "source": [
    "df_w_all=pd.DataFrame({\"name\":[\"abhinav\",\"ravi\",\"wasp\",\"scarlett\"],\"age\":[25,30,92,19],\"height\":[6.2,5.5,4.9,7],\"gender\":[\"m\",\"m\",\"f\",\"f\"]})\n",
    "print(df_w_all.groupby(\"gender\").quantile(0.5))"
   ]
  },
  {
   "cell_type": "code",
   "execution_count": 59,
   "metadata": {},
   "outputs": [
    {
     "name": "stdout",
     "output_type": "stream",
     "text": [
      "        age  meanheight  name\n",
      "gender                       \n",
      "f        92        5.95  wasp\n",
      "m        30        5.85  ravi\n"
     ]
    }
   ],
   "source": [
    "def agg(df):\n",
    "    return pd.Series({\"name\":max(df[\"name\"]),\"age\":max(df[\"age\"]),\"meanheight\":df[\"height\"].mean()})\n",
    "\n",
    "print(df_w_all.groupby(\"gender\").apply(agg))"
   ]
  },
  {
   "cell_type": "code",
   "execution_count": null,
   "metadata": {
    "collapsed": true
   },
   "outputs": [],
   "source": []
  }
 ],
 "metadata": {
  "kernelspec": {
   "display_name": "Python 3",
   "language": "python",
   "name": "python3"
  },
  "language_info": {
   "codemirror_mode": {
    "name": "ipython",
    "version": 3
   },
   "file_extension": ".py",
   "mimetype": "text/x-python",
   "name": "python",
   "nbconvert_exporter": "python",
   "pygments_lexer": "ipython3",
   "version": "3.6.3"
  }
 },
 "nbformat": 4,
 "nbformat_minor": 2
}
